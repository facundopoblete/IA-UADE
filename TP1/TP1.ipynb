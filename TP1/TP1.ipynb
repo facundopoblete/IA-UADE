{
 "cells": [
  {
   "cell_type": "markdown",
   "metadata": {},
   "source": [
    "# TP 1 Enunciado"
   ]
  },
  {
   "cell_type": "markdown",
   "metadata": {},
   "source": [
    "Tareas\n",
    "El equipo debe realizar las siguientes actividades.\n",
    "1. Identificar el tipo/clase de problema.\n",
    "2. Identificar las variables y sus características. Describirlas.\n",
    "3. Realizar la tarea de preprocesamiento en caso de que fuese necesario. Limpieza de variables,\n",
    "normalización, categorización, remuestreo, binarización, categorización, etc.\n",
    "4. Aplicar al menos cuatro (4) modelos de Machine Learning distintos para el problema\n",
    "identificado.\n",
    "5. Formalizar una técnica de selección de los datos.\n",
    "6. Evaluar cada modelo según los resultados obtenidos.\n",
    "7. Comentar las ventajas y limitación de los modelos elegidos.\n",
    "8. Presentar los resultados obtenidos."
   ]
  },
  {
   "cell_type": "markdown",
   "metadata": {},
   "source": [
    "## Import de Libs"
   ]
  },
  {
   "cell_type": "code",
   "execution_count": 28,
   "metadata": {},
   "outputs": [],
   "source": [
    "import warnings\n",
    "warnings.simplefilter(action='ignore', category=FutureWarning)\n",
    "\n",
    "import pandas as pd"
   ]
  },
  {
   "cell_type": "markdown",
   "metadata": {},
   "source": [
    "## Leer datos de .csv"
   ]
  },
  {
   "cell_type": "code",
   "execution_count": 29,
   "metadata": {},
   "outputs": [],
   "source": [
    "df = pd.read_csv(\"Churners.csv\")"
   ]
  },
  {
   "cell_type": "markdown",
   "metadata": {},
   "source": [
    "## Analisis del dataset"
   ]
  },
  {
   "cell_type": "code",
   "execution_count": 30,
   "metadata": {},
   "outputs": [
    {
     "name": "stdout",
     "output_type": "stream",
     "text": [
      "Tamaño del dataset: 9000\n"
     ]
    }
   ],
   "source": [
    "print(\"Tamaño del dataset:\",len(df));"
   ]
  },
  {
   "cell_type": "code",
   "execution_count": 31,
   "metadata": {},
   "outputs": [
    {
     "name": "stdout",
     "output_type": "stream",
     "text": [
      "Datos:  Index(['id', 'Nombre', 'Email', 'Pais', 'Genero', 'Edad', 'Antigüedad',\n",
      "       'FacturacionTotal', 'PuntuacionCrediticia', 'CantidadProductos',\n",
      "       'PoseeTarjetaCredito', 'MiembroActivo', 'SalarioEstimado',\n",
      "       'VelocidadServicio', 'Abandono'],\n",
      "      dtype='object')\n"
     ]
    }
   ],
   "source": [
    "print(\"Datos: \", df.keys())"
   ]
  },
  {
   "cell_type": "code",
   "execution_count": 32,
   "metadata": {},
   "outputs": [
    {
     "data": {
      "text/html": [
       "<div>\n",
       "<style scoped>\n",
       "    .dataframe tbody tr th:only-of-type {\n",
       "        vertical-align: middle;\n",
       "    }\n",
       "\n",
       "    .dataframe tbody tr th {\n",
       "        vertical-align: top;\n",
       "    }\n",
       "\n",
       "    .dataframe thead th {\n",
       "        text-align: right;\n",
       "    }\n",
       "</style>\n",
       "<table border=\"1\" class=\"dataframe\">\n",
       "  <thead>\n",
       "    <tr style=\"text-align: right;\">\n",
       "      <th></th>\n",
       "      <th>id</th>\n",
       "      <th>Nombre</th>\n",
       "      <th>Email</th>\n",
       "      <th>Pais</th>\n",
       "      <th>Genero</th>\n",
       "      <th>Edad</th>\n",
       "      <th>Antigüedad</th>\n",
       "      <th>FacturacionTotal</th>\n",
       "      <th>PuntuacionCrediticia</th>\n",
       "      <th>CantidadProductos</th>\n",
       "      <th>PoseeTarjetaCredito</th>\n",
       "      <th>MiembroActivo</th>\n",
       "      <th>SalarioEstimado</th>\n",
       "      <th>VelocidadServicio</th>\n",
       "      <th>Abandono</th>\n",
       "    </tr>\n",
       "  </thead>\n",
       "  <tbody>\n",
       "    <tr>\n",
       "      <td>0</td>\n",
       "      <td>15638513</td>\n",
       "      <td>Estrella de Alvarado</td>\n",
       "      <td>roxanafuster@rodenas.org</td>\n",
       "      <td>Argentina</td>\n",
       "      <td>Femenino</td>\n",
       "      <td>40</td>\n",
       "      <td>7</td>\n",
       "      <td>142856.95</td>\n",
       "      <td>723</td>\n",
       "      <td>2</td>\n",
       "      <td>No</td>\n",
       "      <td>No</td>\n",
       "      <td>38019.74</td>\n",
       "      <td>500Mb</td>\n",
       "      <td>Si</td>\n",
       "    </tr>\n",
       "    <tr>\n",
       "      <td>1</td>\n",
       "      <td>15805303</td>\n",
       "      <td>Dora Nieves Lerma Zurita</td>\n",
       "      <td>maximino90@gmail.com</td>\n",
       "      <td>Brasil</td>\n",
       "      <td>Masculino</td>\n",
       "      <td>44</td>\n",
       "      <td>1</td>\n",
       "      <td>141136.62</td>\n",
       "      <td>661</td>\n",
       "      <td>1</td>\n",
       "      <td>Si</td>\n",
       "      <td>No</td>\n",
       "      <td>189742.78</td>\n",
       "      <td>500Mb</td>\n",
       "      <td>Si</td>\n",
       "    </tr>\n",
       "    <tr>\n",
       "      <td>2</td>\n",
       "      <td>15685844</td>\n",
       "      <td>Adelina Contreras Cervera</td>\n",
       "      <td>somozaeufemia@revilla.es</td>\n",
       "      <td>Brasil</td>\n",
       "      <td>Femenino</td>\n",
       "      <td>35</td>\n",
       "      <td>8</td>\n",
       "      <td>141665.63</td>\n",
       "      <td>518</td>\n",
       "      <td>1</td>\n",
       "      <td>No</td>\n",
       "      <td>Si</td>\n",
       "      <td>192776.64</td>\n",
       "      <td>1GB</td>\n",
       "      <td>No</td>\n",
       "    </tr>\n",
       "    <tr>\n",
       "      <td>3</td>\n",
       "      <td>15658693</td>\n",
       "      <td>Ale del Portero</td>\n",
       "      <td>gisela65@amores.es</td>\n",
       "      <td>Argentina</td>\n",
       "      <td>Femenino</td>\n",
       "      <td>60</td>\n",
       "      <td>2</td>\n",
       "      <td>0.00</td>\n",
       "      <td>827</td>\n",
       "      <td>2</td>\n",
       "      <td>No</td>\n",
       "      <td>Si</td>\n",
       "      <td>60615.83</td>\n",
       "      <td>1GB</td>\n",
       "      <td>No</td>\n",
       "    </tr>\n",
       "    <tr>\n",
       "      <td>4</td>\n",
       "      <td>15676091</td>\n",
       "      <td>Salvador Ángel Gimeno</td>\n",
       "      <td>maximino64@navarrete-gonzalo.com</td>\n",
       "      <td>Argentina</td>\n",
       "      <td>Masculino</td>\n",
       "      <td>42</td>\n",
       "      <td>7</td>\n",
       "      <td>0.00</td>\n",
       "      <td>543</td>\n",
       "      <td>1</td>\n",
       "      <td>Si</td>\n",
       "      <td>Si</td>\n",
       "      <td>56650.47</td>\n",
       "      <td>500Mb</td>\n",
       "      <td>Si</td>\n",
       "    </tr>\n",
       "  </tbody>\n",
       "</table>\n",
       "</div>"
      ],
      "text/plain": [
       "         id                     Nombre                             Email  \\\n",
       "0  15638513       Estrella de Alvarado          roxanafuster@rodenas.org   \n",
       "1  15805303   Dora Nieves Lerma Zurita              maximino90@gmail.com   \n",
       "2  15685844  Adelina Contreras Cervera          somozaeufemia@revilla.es   \n",
       "3  15658693            Ale del Portero                gisela65@amores.es   \n",
       "4  15676091      Salvador Ángel Gimeno  maximino64@navarrete-gonzalo.com   \n",
       "\n",
       "        Pais     Genero  Edad  Antigüedad  FacturacionTotal  \\\n",
       "0  Argentina   Femenino    40           7         142856.95   \n",
       "1     Brasil  Masculino    44           1         141136.62   \n",
       "2     Brasil   Femenino    35           8         141665.63   \n",
       "3  Argentina   Femenino    60           2              0.00   \n",
       "4  Argentina  Masculino    42           7              0.00   \n",
       "\n",
       "   PuntuacionCrediticia  CantidadProductos PoseeTarjetaCredito MiembroActivo  \\\n",
       "0                   723                  2                  No            No   \n",
       "1                   661                  1                  Si            No   \n",
       "2                   518                  1                  No            Si   \n",
       "3                   827                  2                  No            Si   \n",
       "4                   543                  1                  Si            Si   \n",
       "\n",
       "   SalarioEstimado VelocidadServicio Abandono  \n",
       "0         38019.74             500Mb       Si  \n",
       "1        189742.78             500Mb       Si  \n",
       "2        192776.64               1GB       No  \n",
       "3         60615.83               1GB       No  \n",
       "4         56650.47             500Mb       Si  "
      ]
     },
     "execution_count": 32,
     "metadata": {},
     "output_type": "execute_result"
    }
   ],
   "source": [
    "df.head()"
   ]
  },
  {
   "cell_type": "code",
   "execution_count": 33,
   "metadata": {},
   "outputs": [
    {
     "data": {
      "text/html": [
       "<div>\n",
       "<style scoped>\n",
       "    .dataframe tbody tr th:only-of-type {\n",
       "        vertical-align: middle;\n",
       "    }\n",
       "\n",
       "    .dataframe tbody tr th {\n",
       "        vertical-align: top;\n",
       "    }\n",
       "\n",
       "    .dataframe thead th {\n",
       "        text-align: right;\n",
       "    }\n",
       "</style>\n",
       "<table border=\"1\" class=\"dataframe\">\n",
       "  <thead>\n",
       "    <tr style=\"text-align: right;\">\n",
       "      <th></th>\n",
       "      <th>id</th>\n",
       "      <th>Edad</th>\n",
       "      <th>Antigüedad</th>\n",
       "      <th>FacturacionTotal</th>\n",
       "      <th>PuntuacionCrediticia</th>\n",
       "      <th>CantidadProductos</th>\n",
       "      <th>SalarioEstimado</th>\n",
       "    </tr>\n",
       "  </thead>\n",
       "  <tbody>\n",
       "    <tr>\n",
       "      <td>count</td>\n",
       "      <td>9.000000e+03</td>\n",
       "      <td>9000.000000</td>\n",
       "      <td>9000.000000</td>\n",
       "      <td>9000.000000</td>\n",
       "      <td>9000.000000</td>\n",
       "      <td>9000.000000</td>\n",
       "      <td>9000.000000</td>\n",
       "    </tr>\n",
       "    <tr>\n",
       "      <td>mean</td>\n",
       "      <td>1.569074e+07</td>\n",
       "      <td>38.944333</td>\n",
       "      <td>5.021889</td>\n",
       "      <td>76401.613553</td>\n",
       "      <td>651.088111</td>\n",
       "      <td>1.530667</td>\n",
       "      <td>100171.664682</td>\n",
       "    </tr>\n",
       "    <tr>\n",
       "      <td>std</td>\n",
       "      <td>7.175292e+04</td>\n",
       "      <td>10.489313</td>\n",
       "      <td>2.895496</td>\n",
       "      <td>62372.158110</td>\n",
       "      <td>96.659877</td>\n",
       "      <td>0.581366</td>\n",
       "      <td>57574.932752</td>\n",
       "    </tr>\n",
       "    <tr>\n",
       "      <td>min</td>\n",
       "      <td>1.556570e+07</td>\n",
       "      <td>18.000000</td>\n",
       "      <td>0.000000</td>\n",
       "      <td>0.000000</td>\n",
       "      <td>350.000000</td>\n",
       "      <td>1.000000</td>\n",
       "      <td>11.580000</td>\n",
       "    </tr>\n",
       "    <tr>\n",
       "      <td>25%</td>\n",
       "      <td>1.562829e+07</td>\n",
       "      <td>32.000000</td>\n",
       "      <td>3.000000</td>\n",
       "      <td>0.000000</td>\n",
       "      <td>584.000000</td>\n",
       "      <td>1.000000</td>\n",
       "      <td>51078.675000</td>\n",
       "    </tr>\n",
       "    <tr>\n",
       "      <td>50%</td>\n",
       "      <td>1.569049e+07</td>\n",
       "      <td>37.000000</td>\n",
       "      <td>5.000000</td>\n",
       "      <td>97089.635000</td>\n",
       "      <td>652.000000</td>\n",
       "      <td>1.000000</td>\n",
       "      <td>100185.240000</td>\n",
       "    </tr>\n",
       "    <tr>\n",
       "      <td>75%</td>\n",
       "      <td>1.575281e+07</td>\n",
       "      <td>44.000000</td>\n",
       "      <td>8.000000</td>\n",
       "      <td>127651.035000</td>\n",
       "      <td>718.000000</td>\n",
       "      <td>2.000000</td>\n",
       "      <td>149577.610000</td>\n",
       "    </tr>\n",
       "    <tr>\n",
       "      <td>max</td>\n",
       "      <td>1.581569e+07</td>\n",
       "      <td>92.000000</td>\n",
       "      <td>10.000000</td>\n",
       "      <td>250898.090000</td>\n",
       "      <td>850.000000</td>\n",
       "      <td>4.000000</td>\n",
       "      <td>199992.480000</td>\n",
       "    </tr>\n",
       "  </tbody>\n",
       "</table>\n",
       "</div>"
      ],
      "text/plain": [
       "                 id         Edad   Antigüedad  FacturacionTotal  \\\n",
       "count  9.000000e+03  9000.000000  9000.000000       9000.000000   \n",
       "mean   1.569074e+07    38.944333     5.021889      76401.613553   \n",
       "std    7.175292e+04    10.489313     2.895496      62372.158110   \n",
       "min    1.556570e+07    18.000000     0.000000          0.000000   \n",
       "25%    1.562829e+07    32.000000     3.000000          0.000000   \n",
       "50%    1.569049e+07    37.000000     5.000000      97089.635000   \n",
       "75%    1.575281e+07    44.000000     8.000000     127651.035000   \n",
       "max    1.581569e+07    92.000000    10.000000     250898.090000   \n",
       "\n",
       "       PuntuacionCrediticia  CantidadProductos  SalarioEstimado  \n",
       "count           9000.000000        9000.000000      9000.000000  \n",
       "mean             651.088111           1.530667    100171.664682  \n",
       "std               96.659877           0.581366     57574.932752  \n",
       "min              350.000000           1.000000        11.580000  \n",
       "25%              584.000000           1.000000     51078.675000  \n",
       "50%              652.000000           1.000000    100185.240000  \n",
       "75%              718.000000           2.000000    149577.610000  \n",
       "max              850.000000           4.000000    199992.480000  "
      ]
     },
     "execution_count": 33,
     "metadata": {},
     "output_type": "execute_result"
    }
   ],
   "source": [
    "df.describe()"
   ]
  },
  {
   "cell_type": "code",
   "execution_count": 34,
   "metadata": {},
   "outputs": [
    {
     "data": {
      "text/plain": [
       "Masculino    4923\n",
       "Femenino     4077\n",
       "Name: Genero, dtype: int64"
      ]
     },
     "execution_count": 34,
     "metadata": {},
     "output_type": "execute_result"
    }
   ],
   "source": [
    "df[\"Genero\"].value_counts()"
   ]
  },
  {
   "cell_type": "code",
   "execution_count": 35,
   "metadata": {},
   "outputs": [
    {
     "data": {
      "text/plain": [
       "Si    4631\n",
       "No    4369\n",
       "Name: MiembroActivo, dtype: int64"
      ]
     },
     "execution_count": 35,
     "metadata": {},
     "output_type": "execute_result"
    }
   ],
   "source": [
    "df[\"MiembroActivo\"].value_counts()"
   ]
  },
  {
   "cell_type": "code",
   "execution_count": 36,
   "metadata": {},
   "outputs": [
    {
     "data": {
      "text/plain": [
       "No    5753\n",
       "Si    3247\n",
       "Name: Abandono, dtype: int64"
      ]
     },
     "execution_count": 36,
     "metadata": {},
     "output_type": "execute_result"
    }
   ],
   "source": [
    "df[\"Abandono\"].value_counts()"
   ]
  },
  {
   "cell_type": "code",
   "execution_count": 37,
   "metadata": {},
   "outputs": [
    {
     "data": {
      "text/plain": [
       "Argentina    4523\n",
       "Brasil       2267\n",
       "Chile        2210\n",
       "Name: Pais, dtype: int64"
      ]
     },
     "execution_count": 37,
     "metadata": {},
     "output_type": "execute_result"
    }
   ],
   "source": [
    "df[\"Pais\"].value_counts()"
   ]
  },
  {
   "cell_type": "code",
   "execution_count": 38,
   "metadata": {},
   "outputs": [
    {
     "data": {
      "text/plain": [
       "20GB     1842\n",
       "1GB      1807\n",
       "500Mb    1793\n",
       "2GB      1788\n",
       "100GB    1770\n",
       "Name: VelocidadServicio, dtype: int64"
      ]
     },
     "execution_count": 38,
     "metadata": {},
     "output_type": "execute_result"
    }
   ],
   "source": [
    "df[\"VelocidadServicio\"].value_counts()"
   ]
  },
  {
   "cell_type": "markdown",
   "metadata": {},
   "source": [
    "# Resumen"
   ]
  },
  {
   "cell_type": "markdown",
   "metadata": {},
   "source": [
    "* Rango edad: 18 - 92\n",
    "* Antiguedad: 0 - 10\n",
    "* Productos: 1 - 4\n",
    "* Salario: 11.580000 - 199992.480000"
   ]
  },
  {
   "cell_type": "markdown",
   "metadata": {},
   "source": [
    "# Limpieza de datos"
   ]
  },
  {
   "cell_type": "code",
   "execution_count": 39,
   "metadata": {},
   "outputs": [
    {
     "name": "stdout",
     "output_type": "stream",
     "text": [
      "<class 'pandas.core.frame.DataFrame'>\n",
      "RangeIndex: 9000 entries, 0 to 8999\n",
      "Data columns (total 15 columns):\n",
      "id                      9000 non-null int64\n",
      "Nombre                  9000 non-null object\n",
      "Email                   9000 non-null object\n",
      "Pais                    9000 non-null int8\n",
      "Genero                  9000 non-null int8\n",
      "Edad                    9000 non-null int64\n",
      "Antigüedad              9000 non-null int64\n",
      "FacturacionTotal        9000 non-null float64\n",
      "PuntuacionCrediticia    9000 non-null int64\n",
      "CantidadProductos       9000 non-null int64\n",
      "PoseeTarjetaCredito     9000 non-null int8\n",
      "MiembroActivo           9000 non-null int8\n",
      "SalarioEstimado         9000 non-null float64\n",
      "VelocidadServicio       9000 non-null int8\n",
      "Abandono                9000 non-null int8\n",
      "dtypes: float64(2), int64(5), int8(6), object(2)\n",
      "memory usage: 685.7+ KB\n"
     ]
    }
   ],
   "source": [
    "# Valores categoricos a codigo 1 / 0 / etc\n",
    "df[\"Abandono\"] = pd.Categorical(df.Abandono).codes\n",
    "df[\"Genero\"] = pd.Categorical(df.Genero).codes\n",
    "df[\"Pais\"] = pd.Categorical(df.Pais).codes\n",
    "df[\"MiembroActivo\"] = pd.Categorical(df.MiembroActivo).codes\n",
    "df[\"VelocidadServicio\"] = pd.Categorical(df.VelocidadServicio).codes\n",
    "df[\"PoseeTarjetaCredito\"] = pd.Categorical(df.PoseeTarjetaCredito).codes\n",
    "df.head()\n",
    "df.info()"
   ]
  },
  {
   "cell_type": "markdown",
   "metadata": {},
   "source": [
    "# Modelo de ML"
   ]
  },
  {
   "cell_type": "code",
   "execution_count": 40,
   "metadata": {},
   "outputs": [],
   "source": [
    "data = df.loc[:, df.columns != 'Abandono']\n",
    "data = data.loc[:, data.columns != 'Nombre']\n",
    "data = data.loc[:, data.columns != 'Email']\n",
    "target = df[\"Abandono\"]"
   ]
  },
  {
   "cell_type": "code",
   "execution_count": 41,
   "metadata": {},
   "outputs": [],
   "source": [
    "from sklearn.model_selection import train_test_split"
   ]
  },
  {
   "cell_type": "code",
   "execution_count": 42,
   "metadata": {},
   "outputs": [],
   "source": [
    "X_train, X_test, Y_train, Y_test = train_test_split(data, target, random_state=0)"
   ]
  },
  {
   "cell_type": "code",
   "execution_count": null,
   "metadata": {},
   "outputs": [
    {
     "data": {
      "text/plain": [
       "array([[<matplotlib.axes._subplots.AxesSubplot object at 0x7fa0f279bbd0>,\n",
       "        <matplotlib.axes._subplots.AxesSubplot object at 0x7fa0d763d4d0>,\n",
       "        <matplotlib.axes._subplots.AxesSubplot object at 0x7fa0f3e46650>,\n",
       "        <matplotlib.axes._subplots.AxesSubplot object at 0x7fa0f3e70dd0>,\n",
       "        <matplotlib.axes._subplots.AxesSubplot object at 0x7fa0d1a99610>,\n",
       "        <matplotlib.axes._subplots.AxesSubplot object at 0x7fa0d1ac2e10>,\n",
       "        <matplotlib.axes._subplots.AxesSubplot object at 0x7fa0d1af6650>,\n",
       "        <matplotlib.axes._subplots.AxesSubplot object at 0x7fa0d1b2ae50>,\n",
       "        <matplotlib.axes._subplots.AxesSubplot object at 0x7fa0d1b349d0>,\n",
       "        <matplotlib.axes._subplots.AxesSubplot object at 0x7fa0d1b78390>,\n",
       "        <matplotlib.axes._subplots.AxesSubplot object at 0x7fa0d1be36d0>,\n",
       "        <matplotlib.axes._subplots.AxesSubplot object at 0x7fa0d1c16ed0>],\n",
       "       [<matplotlib.axes._subplots.AxesSubplot object at 0x7fa0d1c57710>,\n",
       "        <matplotlib.axes._subplots.AxesSubplot object at 0x7fa0d1c8bf10>,\n",
       "        <matplotlib.axes._subplots.AxesSubplot object at 0x7fa0d1cce750>,\n",
       "        <matplotlib.axes._subplots.AxesSubplot object at 0x7fa0d1cfef50>,\n",
       "        <matplotlib.axes._subplots.AxesSubplot object at 0x7fa0d1d43790>,\n",
       "        <matplotlib.axes._subplots.AxesSubplot object at 0x7fa0d1d75f90>,\n",
       "        <matplotlib.axes._subplots.AxesSubplot object at 0x7fa0d38bb7d0>,\n",
       "        <matplotlib.axes._subplots.AxesSubplot object at 0x7fa0d38eef90>,\n",
       "        <matplotlib.axes._subplots.AxesSubplot object at 0x7fa0d39307d0>,\n",
       "        <matplotlib.axes._subplots.AxesSubplot object at 0x7fa0e4bc7fd0>,\n",
       "        <matplotlib.axes._subplots.AxesSubplot object at 0x7fa0e4c07810>,\n",
       "        <matplotlib.axes._subplots.AxesSubplot object at 0x7fa0e4c3bf90>],\n",
       "       [<matplotlib.axes._subplots.AxesSubplot object at 0x7fa0e4c80850>,\n",
       "        <matplotlib.axes._subplots.AxesSubplot object at 0x7fa0e4d44bd0>,\n",
       "        <matplotlib.axes._subplots.AxesSubplot object at 0x7fa0e4d7c890>,\n",
       "        <matplotlib.axes._subplots.AxesSubplot object at 0x7fa0e4dbbc10>,\n",
       "        <matplotlib.axes._subplots.AxesSubplot object at 0x7fa0e4df18d0>,\n",
       "        <matplotlib.axes._subplots.AxesSubplot object at 0x7fa0e4e2ec50>,\n",
       "        <matplotlib.axes._subplots.AxesSubplot object at 0x7fa0e4e66910>,\n",
       "        <matplotlib.axes._subplots.AxesSubplot object at 0x7fa0e4ee4c90>,\n",
       "        <matplotlib.axes._subplots.AxesSubplot object at 0x7fa0e4f1b950>,\n",
       "        <matplotlib.axes._subplots.AxesSubplot object at 0x7fa0e4fa9cd0>,\n",
       "        <matplotlib.axes._subplots.AxesSubplot object at 0x7fa0e5041990>,\n",
       "        <matplotlib.axes._subplots.AxesSubplot object at 0x7fa0e507ed10>],\n",
       "       [<matplotlib.axes._subplots.AxesSubplot object at 0x7fa0e50b79d0>,\n",
       "        <matplotlib.axes._subplots.AxesSubplot object at 0x7fa0e50f3d50>,\n",
       "        <matplotlib.axes._subplots.AxesSubplot object at 0x7fa0e512aa10>,\n",
       "        <matplotlib.axes._subplots.AxesSubplot object at 0x7fa0e5169d90>,\n",
       "        <matplotlib.axes._subplots.AxesSubplot object at 0x7fa0e51a0a50>,\n",
       "        <matplotlib.axes._subplots.AxesSubplot object at 0x7fa0e5256dd0>,\n",
       "        <matplotlib.axes._subplots.AxesSubplot object at 0x7fa0e528ca90>,\n",
       "        <matplotlib.axes._subplots.AxesSubplot object at 0x7fa0e52cce10>,\n",
       "        <matplotlib.axes._subplots.AxesSubplot object at 0x7fa0e5301ad0>,\n",
       "        <matplotlib.axes._subplots.AxesSubplot object at 0x7fa0e5341e50>,\n",
       "        <matplotlib.axes._subplots.AxesSubplot object at 0x7fa0e53f1b10>,\n",
       "        <matplotlib.axes._subplots.AxesSubplot object at 0x7fa0e5430e90>],\n",
       "       [<matplotlib.axes._subplots.AxesSubplot object at 0x7fa0e5468b50>,\n",
       "        <matplotlib.axes._subplots.AxesSubplot object at 0x7fa0e5622ed0>,\n",
       "        <matplotlib.axes._subplots.AxesSubplot object at 0x7fa0e5658b90>,\n",
       "        <matplotlib.axes._subplots.AxesSubplot object at 0x7fa0e5698f10>,\n",
       "        <matplotlib.axes._subplots.AxesSubplot object at 0x7fa0e56cdbd0>,\n",
       "        <matplotlib.axes._subplots.AxesSubplot object at 0x7fa0e570df50>,\n",
       "        <matplotlib.axes._subplots.AxesSubplot object at 0x7fa0e578dc10>,\n",
       "        <matplotlib.axes._subplots.AxesSubplot object at 0x7fa0e5848f90>,\n",
       "        <matplotlib.axes._subplots.AxesSubplot object at 0x7fa0e587fc50>,\n",
       "        <matplotlib.axes._subplots.AxesSubplot object at 0x7fa0e58bffd0>,\n",
       "        <matplotlib.axes._subplots.AxesSubplot object at 0x7fa0e58f4c90>,\n",
       "        <matplotlib.axes._subplots.AxesSubplot object at 0x7fa0e59344d0>],\n",
       "       [<matplotlib.axes._subplots.AxesSubplot object at 0x7fa0e5969cd0>,\n",
       "        <matplotlib.axes._subplots.AxesSubplot object at 0x7fa0e59aa510>,\n",
       "        <matplotlib.axes._subplots.AxesSubplot object at 0x7fa0e5a50d10>,\n",
       "        <matplotlib.axes._subplots.AxesSubplot object at 0x7fa0e5a90550>,\n",
       "        <matplotlib.axes._subplots.AxesSubplot object at 0x7fa0e5ac6d50>,\n",
       "        <matplotlib.axes._subplots.AxesSubplot object at 0x7fa0e5b07590>,\n",
       "        <matplotlib.axes._subplots.AxesSubplot object at 0x7fa0e5b3ad90>,\n",
       "        <matplotlib.axes._subplots.AxesSubplot object at 0x7fa0e5bdc5d0>,\n",
       "        <matplotlib.axes._subplots.AxesSubplot object at 0x7fa0e5c12dd0>,\n",
       "        <matplotlib.axes._subplots.AxesSubplot object at 0x7fa0e5c51610>,\n",
       "        <matplotlib.axes._subplots.AxesSubplot object at 0x7fa0e5ceae10>,\n",
       "        <matplotlib.axes._subplots.AxesSubplot object at 0x7fa0e5e2f650>],\n",
       "       [<matplotlib.axes._subplots.AxesSubplot object at 0x7fa0e5e63e50>,\n",
       "        <matplotlib.axes._subplots.AxesSubplot object at 0x7fa0e6025690>,\n",
       "        <matplotlib.axes._subplots.AxesSubplot object at 0x7fa0e6059e90>,\n",
       "        <matplotlib.axes._subplots.AxesSubplot object at 0x7fa0e609b6d0>,\n",
       "        <matplotlib.axes._subplots.AxesSubplot object at 0x7fa0e611aed0>,\n",
       "        <matplotlib.axes._subplots.AxesSubplot object at 0x7fa0e615c710>,\n",
       "        <matplotlib.axes._subplots.AxesSubplot object at 0x7fa0e618ff10>,\n",
       "        <matplotlib.axes._subplots.AxesSubplot object at 0x7fa0e61d1750>,\n",
       "        <matplotlib.axes._subplots.AxesSubplot object at 0x7fa0e6204f50>,\n",
       "        <matplotlib.axes._subplots.AxesSubplot object at 0x7fa0e62bf790>,\n",
       "        <matplotlib.axes._subplots.AxesSubplot object at 0x7fa0e646df90>,\n",
       "        <matplotlib.axes._subplots.AxesSubplot object at 0x7fa0e64b07d0>],\n",
       "       [<matplotlib.axes._subplots.AxesSubplot object at 0x7fa0e64e2fd0>,\n",
       "        <matplotlib.axes._subplots.AxesSubplot object at 0x7fa0e6566810>,\n",
       "        <matplotlib.axes._subplots.AxesSubplot object at 0x7fa0e6598f90>,\n",
       "        <matplotlib.axes._subplots.AxesSubplot object at 0x7fa0e65db850>,\n",
       "        <matplotlib.axes._subplots.AxesSubplot object at 0x7fa0e6719bd0>,\n",
       "        <matplotlib.axes._subplots.AxesSubplot object at 0x7fa0e6751890>,\n",
       "        <matplotlib.axes._subplots.AxesSubplot object at 0x7fa0e678ec10>,\n",
       "        <matplotlib.axes._subplots.AxesSubplot object at 0x7fa0e68068d0>,\n",
       "        <matplotlib.axes._subplots.AxesSubplot object at 0x7fa0e6843c50>,\n",
       "        <matplotlib.axes._subplots.AxesSubplot object at 0x7fa0e687aa90>,\n",
       "        <matplotlib.axes._subplots.AxesSubplot object at 0x7fa0e68a8fd0>,\n",
       "        <matplotlib.axes._subplots.AxesSubplot object at 0x7fa0e6918c90>],\n",
       "       [<matplotlib.axes._subplots.AxesSubplot object at 0x7fa0e69964d0>,\n",
       "        <matplotlib.axes._subplots.AxesSubplot object at 0x7fa0e6ea1cd0>,\n",
       "        <matplotlib.axes._subplots.AxesSubplot object at 0x7fa0e7904510>,\n",
       "        <matplotlib.axes._subplots.AxesSubplot object at 0x7fa0e793ad10>,\n",
       "        <matplotlib.axes._subplots.AxesSubplot object at 0x7fa0e7978550>,\n",
       "        <matplotlib.axes._subplots.AxesSubplot object at 0x7fa0e79aed50>,\n",
       "        <matplotlib.axes._subplots.AxesSubplot object at 0x7fa0e79ef590>,\n",
       "        <matplotlib.axes._subplots.AxesSubplot object at 0x7fa0e7a81d90>,\n",
       "        <matplotlib.axes._subplots.AxesSubplot object at 0x7fa0e7ac45d0>,\n",
       "        <matplotlib.axes._subplots.AxesSubplot object at 0x7fa0e7af5dd0>,\n",
       "        <matplotlib.axes._subplots.AxesSubplot object at 0x7fa0e7b38610>,\n",
       "        <matplotlib.axes._subplots.AxesSubplot object at 0x7fa0e7b6ce10>],\n",
       "       [<matplotlib.axes._subplots.AxesSubplot object at 0x7fa0e7bac650>,\n",
       "        <matplotlib.axes._subplots.AxesSubplot object at 0x7fa0e7be1e50>,\n",
       "        <matplotlib.axes._subplots.AxesSubplot object at 0x7fa0e7c22690>,\n",
       "        <matplotlib.axes._subplots.AxesSubplot object at 0x7fa0e7c56e90>,\n",
       "        <matplotlib.axes._subplots.AxesSubplot object at 0x7fa0e7c996d0>,\n",
       "        <matplotlib.axes._subplots.AxesSubplot object at 0x7fa0e7ccced0>,\n",
       "        <matplotlib.axes._subplots.AxesSubplot object at 0x7fa0e7d0e710>,\n",
       "        <matplotlib.axes._subplots.AxesSubplot object at 0x7fa0e7d41f10>,\n",
       "        <matplotlib.axes._subplots.AxesSubplot object at 0x7fa0e7d84750>,\n",
       "        <matplotlib.axes._subplots.AxesSubplot object at 0x7fa0e7db8f50>,\n",
       "        <matplotlib.axes._subplots.AxesSubplot object at 0x7fa0e7df8790>,\n",
       "        <matplotlib.axes._subplots.AxesSubplot object at 0x7fa0e7e2cf90>],\n",
       "       [<matplotlib.axes._subplots.AxesSubplot object at 0x7fa0e7e6f7d0>,\n",
       "        <matplotlib.axes._subplots.AxesSubplot object at 0x7fa0e7ea1fd0>,\n",
       "        <matplotlib.axes._subplots.AxesSubplot object at 0x7fa0e7ee4810>,\n",
       "        <matplotlib.axes._subplots.AxesSubplot object at 0x7fa0e7f17f90>,\n",
       "        <matplotlib.axes._subplots.AxesSubplot object at 0x7fa0e7f5a850>,\n",
       "        <matplotlib.axes._subplots.AxesSubplot object at 0x7fa0e7f96bd0>,\n",
       "        <matplotlib.axes._subplots.AxesSubplot object at 0x7fa0e7fce890>,\n",
       "        <matplotlib.axes._subplots.AxesSubplot object at 0x7fa0e800cc10>,\n",
       "        <matplotlib.axes._subplots.AxesSubplot object at 0x7fa0e80438d0>,\n",
       "        <matplotlib.axes._subplots.AxesSubplot object at 0x7fa0e8082c50>,\n",
       "        <matplotlib.axes._subplots.AxesSubplot object at 0x7fa0e80b9910>,\n",
       "        <matplotlib.axes._subplots.AxesSubplot object at 0x7fa0e80f9c90>],\n",
       "       [<matplotlib.axes._subplots.AxesSubplot object at 0x7fa0e812e950>,\n",
       "        <matplotlib.axes._subplots.AxesSubplot object at 0x7fa0e816ccd0>,\n",
       "        <matplotlib.axes._subplots.AxesSubplot object at 0x7fa0e81a5990>,\n",
       "        <matplotlib.axes._subplots.AxesSubplot object at 0x7fa0e81e2d10>,\n",
       "        <matplotlib.axes._subplots.AxesSubplot object at 0x7fa0e821a9d0>,\n",
       "        <matplotlib.axes._subplots.AxesSubplot object at 0x7fa0e8259d50>,\n",
       "        <matplotlib.axes._subplots.AxesSubplot object at 0x7fa0e828fa10>,\n",
       "        <matplotlib.axes._subplots.AxesSubplot object at 0x7fa0e834ad90>,\n",
       "        <matplotlib.axes._subplots.AxesSubplot object at 0x7fa0e8380a50>,\n",
       "        <matplotlib.axes._subplots.AxesSubplot object at 0x7fa0e83bfdd0>,\n",
       "        <matplotlib.axes._subplots.AxesSubplot object at 0x7fa0f388fa90>,\n",
       "        <matplotlib.axes._subplots.AxesSubplot object at 0x7fa0f445be10>]],\n",
       "      dtype=object)"
      ]
     },
     "execution_count": 43,
     "metadata": {},
     "output_type": "execute_result"
    }
   ],
   "source": [
    "pd.plotting.scatter_matrix(X_train, c=Y_train, figsize=(15,15), marker='o', hist_kwds={'bins':20}, s=60, alpha=8)"
   ]
  },
  {
   "cell_type": "markdown",
   "metadata": {},
   "source": [
    "## Pruebas con cada Modelo"
   ]
  },
  {
   "cell_type": "code",
   "execution_count": null,
   "metadata": {},
   "outputs": [],
   "source": [
    "from sklearn.metrics import accuracy_score,precision_score,recall_score,f1_score,roc_curve,confusion_matrix\n",
    "from sklearn.metrics import mean_squared_error, r2_score, mean_absolute_error"
   ]
  },
  {
   "cell_type": "markdown",
   "metadata": {},
   "source": [
    "# Regesion Lineal"
   ]
  },
  {
   "cell_type": "code",
   "execution_count": null,
   "metadata": {},
   "outputs": [],
   "source": [
    "from sklearn.linear_model import LinearRegression\n",
    "\n",
    "lr_model = LinearRegression()\n",
    "lr_model.fit(X_train,Y_train)\n",
    "Y_pred = lr_model.predict(X_test)\n",
    "\n",
    "print('Test Score:', lr_model.score(X_test,Y_test))\n",
    "print('Train Score:', lr_model.score(X_train,Y_train))\n",
    "y_pred = lr_model.predict(X_test)\n",
    "r2score = r2_score(Y_test,y_pred)\n",
    "print(\"R2 Score:\", r2score)"
   ]
  },
  {
   "cell_type": "markdown",
   "metadata": {},
   "source": [
    "# Random Forest"
   ]
  },
  {
   "cell_type": "code",
   "execution_count": null,
   "metadata": {},
   "outputs": [],
   "source": [
    "from sklearn.ensemble import RandomForestRegressor\n",
    "\n",
    "rf_model = RandomForestRegressor()\n",
    "rf_model.fit(X_train, Y_train)\n",
    "\n",
    "print('Test Score:', rf_model.score(X_test,Y_test))\n",
    "print('Train Score:', rf_model.score(X_train,Y_train))\n",
    "y_pred = rf_model.predict(X_test)\n",
    "r2score = r2_score(Y_test,y_pred)\n",
    "print(\"R2 Score:\", r2score)"
   ]
  },
  {
   "cell_type": "markdown",
   "metadata": {},
   "source": [
    "# KNN"
   ]
  },
  {
   "cell_type": "code",
   "execution_count": null,
   "metadata": {},
   "outputs": [],
   "source": [
    "from sklearn.neighbors import KNeighborsClassifier\n",
    "\n",
    "kn_model = KNeighborsClassifier(n_neighbors=2)\n",
    "kn_model.fit(X_train, Y_train)\n",
    "\n",
    "print('Test Score:', kn_model.score(X_test,Y_test))\n",
    "print('Train Score:', kn_model.score(X_train,Y_train))\n",
    "y_pred = kn_model.predict(X_test)\n",
    "r2score = r2_score(Y_test,y_pred)\n",
    "print(\"R2 Score:\", r2score)"
   ]
  },
  {
   "cell_type": "markdown",
   "metadata": {},
   "source": [
    "# Support Vector Machine"
   ]
  },
  {
   "cell_type": "code",
   "execution_count": null,
   "metadata": {},
   "outputs": [],
   "source": [
    "from sklearn.svm import SVC\n",
    "\n",
    "svm_model = SVC()\n",
    "svm_model.fit(X_train, Y_train)\n",
    "\n",
    "print('Test Score:', svm_model.score(X_test,Y_test))\n",
    "print('Train Score:', svm_model.score(X_train,Y_train))\n",
    "y_pred = svm_model.predict(X_test)\n",
    "r2score = r2_score(Y_test,y_pred)\n",
    "print(\"R2 Score:\", r2score)"
   ]
  }
 ],
 "metadata": {
  "kernelspec": {
   "display_name": "Python 3",
   "language": "python",
   "name": "python3"
  },
  "language_info": {
   "codemirror_mode": {
    "name": "ipython",
    "version": 3
   },
   "file_extension": ".py",
   "mimetype": "text/x-python",
   "name": "python",
   "nbconvert_exporter": "python",
   "pygments_lexer": "ipython3",
   "version": "3.7.4"
  }
 },
 "nbformat": 4,
 "nbformat_minor": 2
}
