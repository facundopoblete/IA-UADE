{
 "cells": [
  {
   "cell_type": "code",
   "execution_count": 1,
   "metadata": {},
   "outputs": [
    {
     "name": "stdout",
     "output_type": "stream",
     "text": [
      "Poblacion creada con 20000 individuos\n",
      "Inicio del proceso iterativo\n",
      "\n",
      "###\n",
      "Paso  0\n",
      "Puntaje: 4\n",
      "Fallo: [5, 7, 8, 11, 14]\n",
      "Mejor:  ['blue', 'Developer', 'JavaScript', 'Cassandra', 'Vim']\n",
      "Mejor:  ['yellow', 'Analyst', 'C#', 'Neo4j', 'Sublime Text']\n",
      "Mejor:  ['white', 'Hacker', 'Python', 'MongoDB', 'Notepad++']\n",
      "Mejor:  ['green', 'Engineer', 'Java', 'HBase', 'Brackets']\n",
      "Mejor:  ['red', 'Mathematician', 'C++', 'Redis', 'Atom']\n",
      "\n",
      "###\n",
      "Paso  1\n",
      "Puntaje: 6\n",
      "Fallo: [3, 4, 9, 11]\n",
      "Mejor:  ['blue', 'Developer', 'C#', 'HBase', 'Brackets']\n",
      "Mejor:  ['yellow', 'Analyst', 'Python', 'Cassandra', 'Atom']\n",
      "Mejor:  ['red', 'Mathematician', 'JavaScript', 'Neo4j', 'Sublime Text']\n",
      "Mejor:  ['white', 'Hacker', 'Java', 'Redis', 'Vim']\n",
      "Mejor:  ['green', 'Engineer', 'C++', 'MongoDB', 'Notepad++']\n",
      "\n",
      "###\n",
      "Paso  2\n",
      "Puntaje: 8\n",
      "Fallo: [3, 4, 5]\n",
      "Mejor:  ['blue', 'Developer', 'Java', 'Redis', 'Brackets']\n",
      "Mejor:  ['yellow', 'Analyst', 'JavaScript', 'Cassandra', 'Vim']\n",
      "Mejor:  ['white', 'Hacker', 'C#', 'HBase', 'Notepad++']\n",
      "Mejor:  ['green', 'Engineer', 'C++', 'MongoDB', 'Atom']\n",
      "Mejor:  ['red', 'Mathematician', 'Python', 'Neo4j', 'Sublime Text']\n",
      "\n",
      "###\n",
      "Paso  3\n",
      "Puntaje: 10\n",
      "Fallo: [3, 5]\n",
      "Mejor:  ['blue', 'Developer', 'Java', 'Redis', 'Atom']\n",
      "Mejor:  ['yellow', 'Analyst', 'JavaScript', 'Cassandra', 'Vim']\n",
      "Mejor:  ['white', 'Hacker', 'C#', 'HBase', 'Notepad++']\n",
      "Mejor:  ['green', 'Engineer', 'C++', 'MongoDB', 'Brackets']\n",
      "Mejor:  ['red', 'Mathematician', 'Python', 'Neo4j', 'Sublime Text']\n",
      "\n",
      "###\n",
      "Paso  4\n",
      "Puntaje: 12\n",
      "Fallo: [3]\n",
      "Mejor:  ['blue', 'Developer', 'Java', 'Redis', 'Vim']\n",
      "Mejor:  ['yellow', 'Analyst', 'JavaScript', 'Cassandra', 'Atom']\n",
      "Mejor:  ['white', 'Hacker', 'C#', 'HBase', 'Notepad++']\n",
      "Mejor:  ['green', 'Engineer', 'C++', 'MongoDB', 'Brackets']\n",
      "Mejor:  ['red', 'Mathematician', 'Python', 'Neo4j', 'Sublime Text']\n",
      "\n",
      "###\n",
      "Paso  5\n",
      "Puntaje: 12\n",
      "Fallo: [3]\n",
      "Mejor:  ['blue', 'Developer', 'Java', 'Redis', 'Vim']\n",
      "Mejor:  ['yellow', 'Analyst', 'JavaScript', 'Cassandra', 'Atom']\n",
      "Mejor:  ['white', 'Hacker', 'C#', 'HBase', 'Notepad++']\n",
      "Mejor:  ['green', 'Engineer', 'C++', 'MongoDB', 'Brackets']\n",
      "Mejor:  ['red', 'Mathematician', 'Python', 'Neo4j', 'Sublime Text']\n",
      "\n",
      "###\n",
      "Paso  6\n",
      "Puntaje: 14\n",
      "Fallo: []\n",
      "Mejor:  ['blue', 'Developer', 'Java', 'Redis', 'Vim']\n",
      "Mejor:  ['red', 'Mathematician', 'C++', 'Neo4j', 'Sublime Text']\n",
      "Mejor:  ['yellow', 'Hacker', 'Python', 'Cassandra', 'Notepad++']\n",
      "Mejor:  ['white', 'Analyst', 'C#', 'HBase', 'Atom']\n",
      "Mejor:  ['green', 'Engineer', 'JavaScript', 'MongoDB', 'Brackets']\n",
      "Fin del proceso, mejor resultado \n",
      " - Fitness: 14 \n",
      " - Individuo ['010', '101', '011', '101', '011', '001', '001', '100', '100', '010', '101', '010', '001', '001', '101', '100', '100', '010', '011', '100', '011', '011', '101', '010', '001'] \n",
      " - Individuo [['blue', 'Developer', 'Java', 'Redis', 'Vim'], ['red', 'Mathematician', 'C++', 'Neo4j', 'Sublime Text'], ['yellow', 'Hacker', 'Python', 'Cassandra', 'Notepad++'], ['white', 'Analyst', 'C#', 'HBase', 'Atom'], ['green', 'Engineer', 'JavaScript', 'MongoDB', 'Brackets']]\n",
      "Tiempo transcurrido 00:00:09.69\n"
     ]
    }
   ],
   "source": [
    "import dev_ga_base"
   ]
  },
  {
   "cell_type": "markdown",
   "metadata": {},
   "source": [
    "# Resultado"
   ]
  },
  {
   "cell_type": "markdown",
   "metadata": {},
   "source": [
    "Tiempo transcurrido **00:00:09.69**\n",
    "\n",
    "- Fitness: 14 \n",
    " \n",
    "- Individuo ['010', '101', '011', '101', '011', '001', '001', '100', '100', '010', '101', '010', '001', '001', '101', '100', '100', '010', '011', '100', '011', '011', '101', '010', '001'] \n",
    "\n",
    "- Individuo [['blue', 'Developer', 'Java', 'Redis', 'Vim'], ['red', 'Mathematician', 'C++', 'Neo4j', 'Sublime Text'], ['yellow', 'Hacker', 'Python', 'Cassandra', 'Notepad++'], ['white', 'Analyst', 'C#', 'HBase', 'Atom'], ['green', 'Engineer', 'JavaScript', 'MongoDB', 'Brackets']]\n"
   ]
  },
  {
   "cell_type": "raw",
   "metadata": {},
   "source": [
    "[\n",
    "    ['blue', 'Developer', 'Java', 'Redis', 'Vim'],\n",
    "    ['red', 'Mathematician', 'C++', 'Neo4j', 'Sublime Text'],\n",
    "    ['yellow', 'Hacker', 'Python', 'Cassandra', 'Notepad++'],\n",
    "    ['white', 'Analyst', 'C#', 'HBase', 'Atom'],\n",
    "    ['green', 'Engineer', 'JavaScript', 'MongoDB', 'Brackets']\n",
    "]"
   ]
  },
  {
   "cell_type": "code",
   "execution_count": null,
   "metadata": {},
   "outputs": [],
   "source": []
  }
 ],
 "metadata": {
  "kernelspec": {
   "display_name": "Python 3",
   "language": "python",
   "name": "python3"
  },
  "language_info": {
   "codemirror_mode": {
    "name": "ipython",
    "version": 3
   },
   "file_extension": ".py",
   "mimetype": "text/x-python",
   "name": "python",
   "nbconvert_exporter": "python",
   "pygments_lexer": "ipython3",
   "version": "3.7.4"
  }
 },
 "nbformat": 4,
 "nbformat_minor": 2
}
