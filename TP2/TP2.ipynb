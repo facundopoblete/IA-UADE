{
 "cells": [
  {
   "cell_type": "code",
   "execution_count": 1,
   "metadata": {},
   "outputs": [
    {
     "name": "stdout",
     "output_type": "stream",
     "text": [
      "Poblacion creada con 20000 individuos\n",
      "Inicio del proceso iterativo\n",
      "\n",
      "###\n",
      "Paso  0\n",
      "Puntaje: 4\n",
      "Fallo: [5, 7, 8, 11, 14]\n",
      "Mejor:  ['blue', 'Developer', 'JavaScript', 'Cassandra', 'Vim']\n",
      "Mejor:  ['yellow', 'Analyst', 'C#', 'Neo4j', 'Sublime Text']\n",
      "Mejor:  ['white', 'Hacker', 'Python', 'MongoDB', 'Notepad++']\n",
      "Mejor:  ['green', 'Engineer', 'Java', 'HBase', 'Brackets']\n",
      "Mejor:  ['red', 'Mathematician', 'C++', 'Redis', 'Atom']\n",
      "\n",
      "###\n",
      "Paso  1\n",
      "Puntaje: 6\n",
      "Fallo: [3, 4, 9, 11]\n",
      "Mejor:  ['blue', 'Developer', 'C#', 'HBase', 'Brackets']\n",
      "Mejor:  ['yellow', 'Analyst', 'Python', 'Cassandra', 'Atom']\n",
      "Mejor:  ['red', 'Mathematician', 'JavaScript', 'Neo4j', 'Sublime Text']\n",
      "Mejor:  ['white', 'Hacker', 'Java', 'Redis', 'Vim']\n",
      "Mejor:  ['green', 'Engineer', 'C++', 'MongoDB', 'Notepad++']\n",
      "\n",
      "###\n",
      "Paso  2\n",
      "Puntaje: 8\n",
      "Fallo: [3, 4, 5]\n",
      "Mejor:  ['blue', 'Developer', 'Java', 'Redis', 'Brackets']\n",
      "Mejor:  ['yellow', 'Analyst', 'JavaScript', 'Cassandra', 'Vim']\n",
      "Mejor:  ['white', 'Hacker', 'C#', 'HBase', 'Notepad++']\n",
      "Mejor:  ['green', 'Engineer', 'C++', 'MongoDB', 'Atom']\n",
      "Mejor:  ['red', 'Mathematician', 'Python', 'Neo4j', 'Sublime Text']\n",
      "\n",
      "###\n",
      "Paso  3\n",
      "Puntaje: 10\n",
      "Fallo: [3, 5]\n",
      "Mejor:  ['blue', 'Developer', 'Java', 'Redis', 'Atom']\n",
      "Mejor:  ['yellow', 'Analyst', 'JavaScript', 'Cassandra', 'Vim']\n",
      "Mejor:  ['white', 'Hacker', 'C#', 'HBase', 'Notepad++']\n",
      "Mejor:  ['green', 'Engineer', 'C++', 'MongoDB', 'Brackets']\n",
      "Mejor:  ['red', 'Mathematician', 'Python', 'Neo4j', 'Sublime Text']\n",
      "\n",
      "###\n",
      "Paso  4\n",
      "Puntaje: 12\n",
      "Fallo: [3]\n",
      "Mejor:  ['blue', 'Developer', 'Java', 'Redis', 'Vim']\n",
      "Mejor:  ['yellow', 'Analyst', 'JavaScript', 'Cassandra', 'Atom']\n",
      "Mejor:  ['white', 'Hacker', 'C#', 'HBase', 'Notepad++']\n",
      "Mejor:  ['green', 'Engineer', 'C++', 'MongoDB', 'Brackets']\n",
      "Mejor:  ['red', 'Mathematician', 'Python', 'Neo4j', 'Sublime Text']\n",
      "\n",
      "###\n",
      "Paso  5\n",
      "Puntaje: 12\n",
      "Fallo: [3]\n",
      "Mejor:  ['blue', 'Developer', 'Java', 'Redis', 'Vim']\n",
      "Mejor:  ['yellow', 'Analyst', 'JavaScript', 'Cassandra', 'Atom']\n",
      "Mejor:  ['white', 'Hacker', 'C#', 'HBase', 'Notepad++']\n",
      "Mejor:  ['green', 'Engineer', 'C++', 'MongoDB', 'Brackets']\n",
      "Mejor:  ['red', 'Mathematician', 'Python', 'Neo4j', 'Sublime Text']\n",
      "\n",
      "###\n",
      "Paso  6\n",
      "Puntaje: 14\n",
      "Fallo: []\n",
      "Mejor:  ['blue', 'Developer', 'Java', 'Redis', 'Vim']\n",
      "Mejor:  ['red', 'Mathematician', 'C++', 'Neo4j', 'Sublime Text']\n",
      "Mejor:  ['yellow', 'Hacker', 'Python', 'Cassandra', 'Notepad++']\n",
      "Mejor:  ['white', 'Analyst', 'C#', 'HBase', 'Atom']\n",
      "Mejor:  ['green', 'Engineer', 'JavaScript', 'MongoDB', 'Brackets']\n",
      "Fin del proceso, mejor resultado \n",
      " - Fitness: 14 \n",
      " - Individuo ['010', '101', '011', '101', '011', '001', '001', '100', '100', '010', '101', '010', '001', '001', '101', '100', '100', '010', '011', '100', '011', '011', '101', '010', '001'] \n",
      " - Individuo [['blue', 'Developer', 'Java', 'Redis', 'Vim'], ['red', 'Mathematician', 'C++', 'Neo4j', 'Sublime Text'], ['yellow', 'Hacker', 'Python', 'Cassandra', 'Notepad++'], ['white', 'Analyst', 'C#', 'HBase', 'Atom'], ['green', 'Engineer', 'JavaScript', 'MongoDB', 'Brackets']]\n",
      "Tiempo transcurrido 00:00:09.69\n"
     ]
    }
   ],
   "source": [
    "import dev_ga_base"
   ]
  },
  {
   "cell_type": "markdown",
   "metadata": {},
   "source": [
    "# Resultado"
   ]
  },
  {
   "cell_type": "markdown",
   "metadata": {},
   "source": [
    "Tiempo transcurrido **00:00:09.69**\n",
    "\n",
    "- Fitness: 14 \n",
    " \n",
    "- Individuo ['010', '101', '011', '101', '011', '001', '001', '100', '100', '010', '101', '010', '001', '001', '101', '100', '100', '010', '011', '100', '011', '011', '101', '010', '001'] \n",
    "\n",
    "- Individuo [['blue', 'Developer', 'Java', 'Redis', 'Vim'], ['red', 'Mathematician', 'C++', 'Neo4j', 'Sublime Text'], ['yellow', 'Hacker', 'Python', 'Cassandra', 'Notepad++'], ['white', 'Analyst', 'C#', 'HBase', 'Atom'], ['green', 'Engineer', 'JavaScript', 'MongoDB', 'Brackets']]\n"
   ]
  },
  {
   "cell_type": "markdown",
   "metadata": {},
   "source": [
    "```python\n",
    "[\n",
    "    ['blue', 'Developer', 'Java', 'Redis', 'Vim'],\n",
    "    ['red', 'Mathematician', 'C++', 'Neo4j', 'Sublime Text'],\n",
    "    ['yellow', 'Hacker', 'Python', 'Cassandra', 'Notepad++'],\n",
    "    ['white', 'Analyst', 'C#', 'HBase', 'Atom'],\n",
    "    ['green', 'Engineer', 'JavaScript', 'MongoDB', 'Brackets']\n",
    "]\n",
    "```"
   ]
  },
  {
   "cell_type": "markdown",
   "metadata": {},
   "source": [
    "# Analisis"
   ]
  },
  {
   "cell_type": "markdown",
   "metadata": {},
   "source": [
    "## Que encontramos?\n",
    "\n",
    "- Generar una población inicial conforme a las reglas del problema mejora el funcionamiento del algoritmo contra generar una población con caracteristicas random.\n",
    "\n",
    "- En una instancia utilizamos Multithreading para agilizar el procesamiento de datos. Luego, al aplicar algunas mejoras en el algoritmo no fue necesario el uso.\n",
    "\n",
    "- Hacer un crossover 'aleatorio' para generar un hijo nuevo, no es lo mejor ya que puede generar individuos invalidos. Fuimos por la opcion de controlar el crossover para que intercambie caracteristicas de los 2 padres y genere un hijo valido.\n",
    "\n",
    "- Hacer una mutación 'aleatoria' no es de lo mejor. Encontramos un buen resultado haciendo un swap de caracteristicas para no generar un individuo invalido luego de la mutación."
   ]
  },
  {
   "cell_type": "markdown",
   "metadata": {},
   "source": [
    "## Población inicial\n",
    "\n",
    "La idea para la población inicial es generar individuos validos con respecto a la logica del problema. Un ejemplo de esto seria no crear 2 casas con el mismo color. El codigo utilizado para realizar este proceso es:"
   ]
  },
  {
   "cell_type": "markdown",
   "metadata": {},
   "source": [
    "```python\n",
    "def createRandomChromosome(self):\n",
    "    colors, prefession, languaje, database, editor = ([0,1,2,3,4] for _ in range(5))\n",
    "\n",
    "    chromosome = []\n",
    "\n",
    "    for _ in range(0, 5):\n",
    "        rn = random.randint(0, len(colors)-1)\n",
    "        chromosome.append(colors[rn])\n",
    "        del colors[rn]\n",
    "\n",
    "        rn = random.randint(0, len(prefession)-1)\n",
    "        chromosome.append(prefession[rn])\n",
    "        del prefession[rn]\n",
    "\n",
    "        rn = random.randint(0, len(languaje)-1)\n",
    "        chromosome.append(languaje[rn])\n",
    "        del languaje[rn]\n",
    "\n",
    "        rn = random.randint(0, len(database)-1)\n",
    "        chromosome.append(database[rn])\n",
    "        del database[rn]\n",
    "\n",
    "        rn = random.randint(0, len(editor)-1)\n",
    "        chromosome.append(editor[rn])\n",
    "        del editor[rn]\n",
    "\n",
    "    return chromosome\n",
    "```"
   ]
  },
  {
   "cell_type": "markdown",
   "metadata": {},
   "source": [
    "## Mutación\n",
    "\n",
    "Para la mutación de invididuos utilizamos un algoritmo que realice un swap entre mismas caracteristicas dentro del individuo. Ejemplo, hacer un swap del color de la casa1 con el color de la casa4."
   ]
  },
  {
   "cell_type": "markdown",
   "metadata": {},
   "source": [
    "```python\n",
    "def mutate(self):\n",
    "    ''' muta un fenotipo haciendo swap'''\n",
    "    ''' se puede hacer esto porque cambié la función de inicialización de la población para que no contenga repetidos'''\n",
    "\n",
    "    col = random.randint(0, 4) #Tipo de característica\n",
    "    row1 = random.randint(0, 4) #Valor de la caracteristica 1\n",
    "    row2 = random.randint(0, 4) #Valor de la caracteristica 2\n",
    "\n",
    "    while row1 == row2:\n",
    "        row2 = random.randint(0, 4)\n",
    "\n",
    "    auxSwapValue = self.chromosome[row1*5+col]\n",
    "    self.chromosome[row1*5+col] = self.chromosome[row2*5+col]\n",
    "    self.chromosome[row2*5+col] = auxSwapValue\n",
    "```"
   ]
  },
  {
   "cell_type": "markdown",
   "metadata": {},
   "source": [
    "## Fitness\n",
    "\n",
    "La función de fitness lo que hace es validar las reglas de logica del problema. En total son 14 reglas que debe cumplir cada individuo. En caso de que un individuo no cumpla con una de las reglas, no sumara puntaje."
   ]
  },
  {
   "cell_type": "markdown",
   "metadata": {},
   "source": [
    "```python\n",
    "def fitness_function(self):\n",
    "    ''' calcula el valor de fitness del cromosoma segun el problema en particular '''\n",
    "\n",
    "    self.score = 0\n",
    "\n",
    "    ok_score = 1\n",
    "    fail_score = -1\n",
    "    punish_score = -1\n",
    "\n",
    "    matrix = [[0 for x in range(5)] for x in range(5)]\n",
    "\n",
    "    for i in range(0, 5):\n",
    "        for j in range(0, 5):\n",
    "            matrix[i][j] = self.chromosome[j*5+i]\n",
    "\n",
    "    # 2. El Matematico vive en la casa roja.\n",
    "    try:\n",
    "        i = matrix[PROFESSION_INDEX].index(0)\n",
    "        if matrix[COLOR_INDEX][i] == 0:\n",
    "            self.score += ok_score\n",
    "        else:\n",
    "            self.score += fail_score\n",
    "    except:\n",
    "        self.score += punish_score\n",
    "    ...\n",
    "    ...\n",
    "    ...\n",
    "```"
   ]
  },
  {
   "cell_type": "markdown",
   "metadata": {},
   "source": [
    "## Crossover\n",
    "\n",
    "La idea del crossover es, dado 2 individuos padres, generar un hijo el cual no rompa las reglas de logica del problema. Es decir, no genere individuos invalidos."
   ]
  },
  {
   "cell_type": "markdown",
   "metadata": {},
   "source": [
    "```python\n",
    "def crossOverPopulation(self, parents):\n",
    "    next_population = []\n",
    "\n",
    "    parent_count = len(parents)\n",
    "    generation_target_count = POPULATION_LEN - PARENT_TO_NEXT_GEN\n",
    "\n",
    "    while len(next_population) < generation_target_count:\n",
    "        if (len(next_population) + parent_count) > generation_target_count:\n",
    "            for progenitor in parents:\n",
    "                otherProgenitor = parents[random.randint(0, parent_count - 1)]\n",
    "                next_population.append(self.crossOver(progenitor, otherProgenitor))\n",
    "                if len(next_population) >= generation_target_count:\n",
    "                    break\n",
    "        else:\n",
    "            for progenitor in parents:\n",
    "                otherProgenitor = parents[random.randint(0, parent_count - 1)]\n",
    "                next_population.append(self.crossOver(progenitor, otherProgenitor))\n",
    "\n",
    "    return next_population\n",
    "```"
   ]
  },
  {
   "cell_type": "code",
   "execution_count": null,
   "metadata": {},
   "outputs": [],
   "source": []
  }
 ],
 "metadata": {
  "kernelspec": {
   "display_name": "Python 3",
   "language": "python",
   "name": "python3"
  },
  "language_info": {
   "codemirror_mode": {
    "name": "ipython",
    "version": 3
   },
   "file_extension": ".py",
   "mimetype": "text/x-python",
   "name": "python",
   "nbconvert_exporter": "python",
   "pygments_lexer": "ipython3",
   "version": "3.7.4"
  }
 },
 "nbformat": 4,
 "nbformat_minor": 2
}
